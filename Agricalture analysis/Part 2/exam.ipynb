{
 "cells": [
  {
   "cell_type": "code",
   "execution_count": 1,
   "metadata": {},
   "outputs": [],
   "source": [
    "import pandas as pd"
   ]
  },
  {
   "cell_type": "code",
   "execution_count": 3,
   "metadata": {},
   "outputs": [],
   "source": [
    "df = pd.read_csv(r\"F:\\Programming\\ALX\\Data Science\\Python\\Integrated Projects\\MD_agric_exam-4313.csv\")"
   ]
  },
  {
   "cell_type": "code",
   "execution_count": 11,
   "metadata": {},
   "outputs": [
    {
     "data": {
      "text/plain": [
       "array(['coffee', 'potato', 'banana', 'wheat', 'cassava', 'maize', 'tea',\n",
       "       'rice'], dtype=object)"
      ]
     },
     "execution_count": 11,
     "metadata": {},
     "output_type": "execute_result"
    }
   ],
   "source": [
    "len(df[\"Crop_type\"].unique())"
   ]
  },
  {
   "cell_type": "code",
   "execution_count": 16,
   "metadata": {},
   "outputs": [
    {
     "data": {
      "text/plain": [
       "8.99"
      ]
     },
     "execution_count": 16,
     "metadata": {},
     "output_type": "execute_result"
    }
   ],
   "source": [
    "wheat_df = df[df[\"Crop_type\"] == \"wheat\"]\n",
    "wheat_df[\"Annual_yield\"].round(2).max()"
   ]
  },
  {
   "cell_type": "code",
   "execution_count": 25,
   "metadata": {},
   "outputs": [
    {
     "data": {
      "text/plain": [
       "941959.7000000001"
      ]
     },
     "execution_count": 25,
     "metadata": {},
     "output_type": "execute_result"
    }
   ],
   "source": [
    "avg_pollution_above_2 = df.groupby(\"Crop_type\").agg({\n",
    "    \"Pollution_level\": \"mean\",\n",
    "    \"Rainfall\": \"sum\"\n",
    "})\n",
    "avg_pollution_above_2 = avg_pollution_above_2[avg_pollution_above_2[\"Pollution_level\"] > 0.2]\n",
    "avg_pollution_above_2[\"Rainfall\"].sum()"
   ]
  },
  {
   "cell_type": "code",
   "execution_count": 48,
   "metadata": {},
   "outputs": [
    {
     "name": "stdout",
     "output_type": "stream",
     "text": [
      "Temperature range for Field_ID 1458: 40.7\n",
      "Temperature range for Field_ID 1895: 35.7\n",
      "Temperature range for Field_ID 5443: 33.4\n"
     ]
    }
   ],
   "source": [
    "\n",
    "# def calc_temp_range(*ids):\n",
    "#     dct = {}\n",
    "    \n",
    "#     for id in ids:\n",
    "#         dct[id] = df[df[\"Field_ID\"] == id][\"Max_temperature_C\"] - df[df[\"Field_ID\"] == id][\"Min_temperature_C\"]\n",
    "        \n",
    "#     return list(dct)\n",
    "\n",
    "# calc_temp_range(*[, '1895', '5443'])\n",
    "\n",
    "def calc_temp_range(id):\n",
    "    # Filter the DataFrame for the given Field_ID\n",
    "    id_series = df[df[\"Field_ID\"] == id]\n",
    "    \n",
    "    # Check if the ID exists in the DataFrame\n",
    "    if id_series.empty:\n",
    "        return f\"Field ID {id} not found\"\n",
    "    \n",
    "    # Calculate the temperature range (Max_temperature_C - Min_temperature_C)\n",
    "    temp_range = id_series[\"Max_temperature_C\"].iloc[0] - id_series[\"Min_temperature_C\"].iloc[0]\n",
    "    \n",
    "    return temp_range\n",
    "\n",
    "# Call the function for Field_IDs: 1458, 1895, 5443\n",
    "result_1458 = calc_temp_range(1458)\n",
    "result_1895 = calc_temp_range(1895)\n",
    "result_5443 = calc_temp_range(5443)\n",
    "\n",
    "# Print the results\n",
    "print(f\"Temperature range for Field_ID 1458: {result_1458}\")\n",
    "print(f\"Temperature range for Field_ID 1895: {result_1895}\")\n",
    "print(f\"Temperature range for Field_ID 5443: {result_5443}\")\n",
    "\n"
   ]
  },
  {
   "cell_type": "code",
   "execution_count": 52,
   "metadata": {},
   "outputs": [
    {
     "data": {
      "text/plain": [
       "inf"
      ]
     },
     "execution_count": 52,
     "metadata": {},
     "output_type": "execute_result"
    }
   ],
   "source": [
    "a = df['Crop_type'].unique()\n",
    "\n",
    "b = float('inf')\n",
    "\n",
    "c = ''\n",
    "\n",
    "for crop in a:\n",
    "\n",
    "    d = df[df['Crop_type'] == crop]['Min_temperature_C'].mean()\n",
    "\n",
    "    if d < b:\n",
    "\n",
    "        b = d\n",
    "\n",
    "        c = crop\n",
    "\n",
    "print(c)"
   ]
  },
  {
   "cell_type": "code",
   "execution_count": 4,
   "metadata": {},
   "outputs": [
    {
     "data": {
      "text/html": [
       "<div>\n",
       "<style scoped>\n",
       "    .dataframe tbody tr th:only-of-type {\n",
       "        vertical-align: middle;\n",
       "    }\n",
       "\n",
       "    .dataframe tbody tr th {\n",
       "        vertical-align: top;\n",
       "    }\n",
       "\n",
       "    .dataframe thead th {\n",
       "        text-align: right;\n",
       "    }\n",
       "</style>\n",
       "<table border=\"1\" class=\"dataframe\">\n",
       "  <thead>\n",
       "    <tr style=\"text-align: right;\">\n",
       "      <th></th>\n",
       "      <th>Field_ID</th>\n",
       "      <th>Elevation</th>\n",
       "      <th>Rainfall</th>\n",
       "      <th>Min_temperature_C</th>\n",
       "      <th>Max_temperature_C</th>\n",
       "      <th>pH</th>\n",
       "      <th>Pollution_level</th>\n",
       "      <th>Plot_size</th>\n",
       "      <th>Annual_yield</th>\n",
       "      <th>Crop_type</th>\n",
       "    </tr>\n",
       "  </thead>\n",
       "  <tbody>\n",
       "    <tr>\n",
       "      <th>0</th>\n",
       "      <td>1162</td>\n",
       "      <td>494.95615</td>\n",
       "      <td>1507.6</td>\n",
       "      <td>-5.4</td>\n",
       "      <td>31.0</td>\n",
       "      <td>6.859436</td>\n",
       "      <td>0.007034</td>\n",
       "      <td>3.6</td>\n",
       "      <td>1.617421</td>\n",
       "      <td>coffee</td>\n",
       "    </tr>\n",
       "    <tr>\n",
       "      <th>1</th>\n",
       "      <td>5108</td>\n",
       "      <td>663.73390</td>\n",
       "      <td>581.0</td>\n",
       "      <td>-4.7</td>\n",
       "      <td>30.9</td>\n",
       "      <td>5.603219</td>\n",
       "      <td>0.289643</td>\n",
       "      <td>4.2</td>\n",
       "      <td>2.532497</td>\n",
       "      <td>potato</td>\n",
       "    </tr>\n",
       "    <tr>\n",
       "      <th>2</th>\n",
       "      <td>3504</td>\n",
       "      <td>396.87990</td>\n",
       "      <td>1715.1</td>\n",
       "      <td>-6.1</td>\n",
       "      <td>31.7</td>\n",
       "      <td>5.774116</td>\n",
       "      <td>0.000409</td>\n",
       "      <td>2.6</td>\n",
       "      <td>1.262207</td>\n",
       "      <td>banana</td>\n",
       "    </tr>\n",
       "  </tbody>\n",
       "</table>\n",
       "</div>"
      ],
      "text/plain": [
       "   Field_ID  Elevation  Rainfall  Min_temperature_C  Max_temperature_C  \\\n",
       "0      1162  494.95615    1507.6               -5.4               31.0   \n",
       "1      5108  663.73390     581.0               -4.7               30.9   \n",
       "2      3504  396.87990    1715.1               -6.1               31.7   \n",
       "\n",
       "         pH  Pollution_level  Plot_size  Annual_yield Crop_type  \n",
       "0  6.859436         0.007034        3.6      1.617421    coffee  \n",
       "1  5.603219         0.289643        4.2      2.532497    potato  \n",
       "2  5.774116         0.000409        2.6      1.262207    banana  "
      ]
     },
     "execution_count": 4,
     "metadata": {},
     "output_type": "execute_result"
    }
   ],
   "source": [
    "df.head(3)"
   ]
  },
  {
   "cell_type": "code",
   "execution_count": 53,
   "metadata": {},
   "outputs": [
    {
     "data": {
      "text/plain": [
       "1731.8999999999999"
      ]
     },
     "execution_count": 53,
     "metadata": {},
     "output_type": "execute_result"
    }
   ],
   "source": [
    "df[df[\"pH\"] < 5.5][\"Plot_size\"].sum()"
   ]
  },
  {
   "cell_type": "code",
   "execution_count": 58,
   "metadata": {},
   "outputs": [
    {
     "data": {
      "text/plain": [
       "Field_ID             319\n",
       "Elevation            319\n",
       "Rainfall             319\n",
       "Min_temperature_C    319\n",
       "Max_temperature_C    319\n",
       "pH                   319\n",
       "Pollution_level      319\n",
       "Plot_size            319\n",
       "Annual_yield         319\n",
       "Crop_type            319\n",
       "dtype: int64"
      ]
     },
     "execution_count": 58,
     "metadata": {},
     "output_type": "execute_result"
    }
   ],
   "source": [
    "cust_df = df.query(\"Min_temperature_C < -5 and Max_temperature_C > 30\")\n",
    "cust_df.count()"
   ]
  },
  {
   "cell_type": "code",
   "execution_count": 59,
   "metadata": {},
   "outputs": [
    {
     "name": "stdout",
     "output_type": "stream",
     "text": [
      "Standard deviation of 'Rainfall' for plots larger than the median plot size: 469.62\n"
     ]
    }
   ],
   "source": [
    "import numpy as np\n",
    "\n",
    "# Assuming `df` is your DataFrame\n",
    "\n",
    "# Step 1: Calculate the median of the 'Plot_size'\n",
    "median_plot_size = np.median(df['Plot_size'])\n",
    "\n",
    "# Step 2: Filter the dataset to include only rows where 'Plot_size' is larger than the median\n",
    "filtered_df = df[df['Plot_size'] > median_plot_size]\n",
    "\n",
    "# Step 3: Calculate the standard deviation of 'Rainfall' for the filtered rows\n",
    "std_dev_rainfall = np.std(filtered_df['Rainfall'])\n",
    "\n",
    "# Step 4: Round the result to 2 decimal places\n",
    "std_dev_rainfall_rounded = round(std_dev_rainfall, 2)\n",
    "\n",
    "# Print the result\n",
    "print(f\"Standard deviation of 'Rainfall' for plots larger than the median plot size: {std_dev_rainfall_rounded}\")\n"
   ]
  },
  {
   "cell_type": "code",
   "execution_count": 82,
   "metadata": {},
   "outputs": [
    {
     "data": {
      "text/plain": [
       "'30.ice'"
      ]
     },
     "execution_count": 82,
     "metadata": {},
     "output_type": "execute_result"
    }
   ],
   "source": [
    "first_3 = str(df[\"Max_temperature_C\"].value_counts().index[0])[:3]\n",
    "last_3 = df[\"Crop_type\"].value_counts(ascending=True).index[0][-3:]\n",
    "\n",
    "result = first_3 + last_3\n",
    "result"
   ]
  },
  {
   "cell_type": "code",
   "execution_count": 83,
   "metadata": {},
   "outputs": [
    {
     "data": {
      "image/png": "[encoded data removed]",
      "text/plain": [
       "<Figure size 1000x600 with 1 Axes>"
      ]
     },
     "metadata": {},
     "output_type": "display_data"
    }
   ],
   "source": [
    "import pandas as pd\n",
    "import seaborn as sns\n",
    "import matplotlib.pyplot as plt\n",
    "\n",
    "# Assuming `df` is your DataFrame that includes 'Annual_yield' and 'Elevation' columns\n",
    "\n",
    "# Step 1: Categorize the 'Elevation' values into Low, Medium, and High categories\n",
    "def categorize_elevation(elevation):\n",
    "    if elevation < 300:\n",
    "        return 'Low'\n",
    "    elif 300 <= elevation <= 600:\n",
    "        return 'Medium'\n",
    "    else:\n",
    "        return 'High'\n",
    "\n",
    "# Apply the function to the 'Elevation' column\n",
    "df['Elevation_Category'] = df['Elevation'].apply(categorize_elevation)\n",
    "\n",
    "# Step 2: Create a violin plot\n",
    "plt.figure(figsize=(10, 6))\n",
    "sns.violinplot(x='Elevation_Category', y='Annual_yield', data=df)\n",
    "\n",
    "# Step 3: Add labels and title for better clarity\n",
    "plt.title('Distribution of Annual Yield Across Elevation Categories')\n",
    "plt.xlabel('Elevation Category')\n",
    "plt.ylabel('Annual Yield')\n",
    "\n",
    "# Show the plot\n",
    "plt.show()\n"
   ]
  },
  {
   "cell_type": "code",
   "execution_count": 89,
   "metadata": {},
   "outputs": [
    {
     "data": {
      "text/plain": [
       "42"
      ]
     },
     "execution_count": 89,
     "metadata": {},
     "output_type": "execute_result"
    }
   ],
   "source": [
    "def croptypesum(croptype,index = 0):\n",
    "    if index > 7:\n",
    "        return 0\n",
    "    return len(croptype[index]) + croptypesum(croptype, index = index+1)\n",
    "croptypesum(df[\"Crop_type\"].unique())"
   ]
  },
  {
   "cell_type": "code",
   "execution_count": 90,
   "metadata": {},
   "outputs": [
    {
     "name": "stdout",
     "output_type": "stream",
     "text": [
      "P-value: 0.598\n"
     ]
    }
   ],
   "source": [
    "import pandas as pd\n",
    "from scipy import stats\n",
    "\n",
    "# Assuming `df` is your DataFrame that includes 'Annual_yield' and 'Crop_type' columns\n",
    "\n",
    "# Filter the data for coffee and banana crop types\n",
    "coffee_yield = df[df['Crop_type'] == 'coffee']['Annual_yield']\n",
    "banana_yield = df[df['Crop_type'] == 'banana']['Annual_yield']\n",
    "\n",
    "# Perform a t-test on the two samples\n",
    "t_stat, p_value = stats.ttest_ind(coffee_yield, banana_yield)\n",
    "\n",
    "# Print the p-value rounded to three decimal places\n",
    "print(f\"P-value: {round(p_value, 3)}\")\n"
   ]
  }
 ],
 "metadata": {
  "kernelspec": {
   "display_name": "base",
   "language": "python",
   "name": "python3"
  },
  "language_info": {
   "codemirror_mode": {
    "name": "ipython",
    "version": 3
   },
   "file_extension": ".py",
   "mimetype": "text/x-python",
   "name": "python",
   "nbconvert_exporter": "python",
   "pygments_lexer": "ipython3",
   "version": "3.12.3"
  }
 },
 "nbformat": 4,
 "nbformat_minor": 2
}
